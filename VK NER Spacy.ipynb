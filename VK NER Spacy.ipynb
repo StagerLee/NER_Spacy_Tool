{
  "nbformat": 4,
  "nbformat_minor": 0,
  "metadata": {
    "colab": {
      "provenance": []
    },
    "kernelspec": {
      "name": "python3",
      "display_name": "Python 3"
    },
    "language_info": {
      "name": "python"
    }
  },
  "cells": [
    {
      "cell_type": "markdown",
      "source": [
        "**Named Entity Recognizer Tool**\n",
        "\n",
        "***Instructions:***\n",
        "\n",
        "Easy-to-use script to label names and entites in a dataset. The script is made in a way that you give it a csv as an input. The csv should contain text data in one column. For example, it should look like this: https://docs.google.com/spreadsheets/d/1mzEjnPH3dE-Jdjo0t0j245jOvo-a5xUwGwxx6s5YfTE/edit#gid=502527803\n",
        "\n",
        "1. Click on the folder icon to the left of the screen.\n",
        "2. Choose: Upload - and upload the dataset that you want to work with. **Important:** the dataset should be named \"Spacy\" and needs to be in 'csv' format.\n",
        "3. Run the first cell and wait a few seconds for the install. \n",
        "4. Run the second cell and wait. This one could take some time. After it finishes, you can refresh files to the left and see a new file 'output.csv'. That contains your original dataset + annotations in a new column. \n",
        "\n",
        "You can later import the ouput into Google Sheets and filter for entity types, make graphs etc. \n",
        "\n"
      ],
      "metadata": {
        "id": "uGT-oB7bHo7P"
      }
    },
    {
      "cell_type": "code",
      "execution_count": null,
      "metadata": {
        "id": "ehkGpIGzEbzx"
      },
      "outputs": [],
      "source": [
        "!pip install spacy"
      ]
    },
    {
      "cell_type": "code",
      "source": [
        "import csv\n",
        "import spacy\n",
        "\n",
        "nlp = spacy.load('en_core_web_sm')\n",
        "\n",
        "with open('Spacy.csv', encoding='utf8') as f:\n",
        "    text = f.read()\n",
        "\n",
        "doc = nlp(text)\n",
        "\n",
        "for ent in doc.ents:\n",
        "    print(ent.text, ent.label_)\n",
        "\n",
        "with open('output.csv', 'w') as f:\n",
        "    writer = csv.writer(f)\n",
        "    header = ['Entity', 'Label']\n",
        "    writer.writerow(header)\n",
        "    for ent in doc.ents:\n",
        "        row = [ent.text, ent.label_]\n",
        "        writer.writerow(row)"
      ],
      "metadata": {
        "id": "DO29uqaDEofd"
      },
      "execution_count": null,
      "outputs": []
    }
  ]
}